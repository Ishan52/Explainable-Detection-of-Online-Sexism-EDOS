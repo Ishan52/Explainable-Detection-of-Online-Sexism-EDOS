{
 "cells": [
  {
   "cell_type": "code",
   "execution_count": 1,
   "id": "a6155b45",
   "metadata": {},
   "outputs": [],
   "source": [
    "import pandas as pd\n",
    "import re"
   ]
  },
  {
   "cell_type": "code",
   "execution_count": 2,
   "id": "365c409b",
   "metadata": {},
   "outputs": [
    {
     "data": {
      "text/html": [
       "<div>\n",
       "<style scoped>\n",
       "    .dataframe tbody tr th:only-of-type {\n",
       "        vertical-align: middle;\n",
       "    }\n",
       "\n",
       "    .dataframe tbody tr th {\n",
       "        vertical-align: top;\n",
       "    }\n",
       "\n",
       "    .dataframe thead th {\n",
       "        text-align: right;\n",
       "    }\n",
       "</style>\n",
       "<table border=\"1\" class=\"dataframe\">\n",
       "  <thead>\n",
       "    <tr style=\"text-align: right;\">\n",
       "      <th></th>\n",
       "      <th>rewire_id</th>\n",
       "      <th>text</th>\n",
       "      <th>label_sexist</th>\n",
       "      <th>label_category</th>\n",
       "      <th>label_vector</th>\n",
       "    </tr>\n",
       "  </thead>\n",
       "  <tbody>\n",
       "    <tr>\n",
       "      <th>0</th>\n",
       "      <td>sexism2022_english-7358</td>\n",
       "      <td>Damn, this writing was pretty chaotic</td>\n",
       "      <td>not sexist</td>\n",
       "      <td>none</td>\n",
       "      <td>none</td>\n",
       "    </tr>\n",
       "    <tr>\n",
       "      <th>1</th>\n",
       "      <td>sexism2022_english-2367</td>\n",
       "      <td>Yeah, and apparently a bunch of misogynistic v...</td>\n",
       "      <td>not sexist</td>\n",
       "      <td>none</td>\n",
       "      <td>none</td>\n",
       "    </tr>\n",
       "    <tr>\n",
       "      <th>2</th>\n",
       "      <td>sexism2022_english-3073</td>\n",
       "      <td>How the FUCK is this woman still an MP!!!???</td>\n",
       "      <td>not sexist</td>\n",
       "      <td>none</td>\n",
       "      <td>none</td>\n",
       "    </tr>\n",
       "    <tr>\n",
       "      <th>3</th>\n",
       "      <td>sexism2022_english-14895</td>\n",
       "      <td>Understand. Know you're right. At same time I ...</td>\n",
       "      <td>not sexist</td>\n",
       "      <td>none</td>\n",
       "      <td>none</td>\n",
       "    </tr>\n",
       "    <tr>\n",
       "      <th>4</th>\n",
       "      <td>sexism2022_english-4118</td>\n",
       "      <td>Surprized they didn't stop and rape some women</td>\n",
       "      <td>not sexist</td>\n",
       "      <td>none</td>\n",
       "      <td>none</td>\n",
       "    </tr>\n",
       "    <tr>\n",
       "      <th>...</th>\n",
       "      <td>...</td>\n",
       "      <td>...</td>\n",
       "      <td>...</td>\n",
       "      <td>...</td>\n",
       "      <td>...</td>\n",
       "    </tr>\n",
       "    <tr>\n",
       "      <th>13995</th>\n",
       "      <td>sexism2022_english-14185</td>\n",
       "      <td>complexes like the 'nice chicks' that go after...</td>\n",
       "      <td>sexist</td>\n",
       "      <td>2. derogation</td>\n",
       "      <td>2.1 descriptive attacks</td>\n",
       "    </tr>\n",
       "    <tr>\n",
       "      <th>13996</th>\n",
       "      <td>sexism2022_english-18629</td>\n",
       "      <td>\"GRAPHIC Germany - Muslim \"refugee\" stabbing h...</td>\n",
       "      <td>not sexist</td>\n",
       "      <td>none</td>\n",
       "      <td>none</td>\n",
       "    </tr>\n",
       "    <tr>\n",
       "      <th>13997</th>\n",
       "      <td>sexism2022_english-3320</td>\n",
       "      <td>Lol I imagine there would be simps that are li...</td>\n",
       "      <td>not sexist</td>\n",
       "      <td>none</td>\n",
       "      <td>none</td>\n",
       "    </tr>\n",
       "    <tr>\n",
       "      <th>13998</th>\n",
       "      <td>sexism2022_english-13309</td>\n",
       "      <td>It's not, the girls I go on dates with don't k...</td>\n",
       "      <td>not sexist</td>\n",
       "      <td>none</td>\n",
       "      <td>none</td>\n",
       "    </tr>\n",
       "    <tr>\n",
       "      <th>13999</th>\n",
       "      <td>sexism2022_english-12402</td>\n",
       "      <td>How can he be an incel? He does have a girlfri...</td>\n",
       "      <td>not sexist</td>\n",
       "      <td>none</td>\n",
       "      <td>none</td>\n",
       "    </tr>\n",
       "  </tbody>\n",
       "</table>\n",
       "<p>14000 rows × 5 columns</p>\n",
       "</div>"
      ],
      "text/plain": [
       "                      rewire_id  \\\n",
       "0       sexism2022_english-7358   \n",
       "1       sexism2022_english-2367   \n",
       "2       sexism2022_english-3073   \n",
       "3      sexism2022_english-14895   \n",
       "4       sexism2022_english-4118   \n",
       "...                         ...   \n",
       "13995  sexism2022_english-14185   \n",
       "13996  sexism2022_english-18629   \n",
       "13997   sexism2022_english-3320   \n",
       "13998  sexism2022_english-13309   \n",
       "13999  sexism2022_english-12402   \n",
       "\n",
       "                                                    text label_sexist  \\\n",
       "0                  Damn, this writing was pretty chaotic   not sexist   \n",
       "1      Yeah, and apparently a bunch of misogynistic v...   not sexist   \n",
       "2           How the FUCK is this woman still an MP!!!???   not sexist   \n",
       "3      Understand. Know you're right. At same time I ...   not sexist   \n",
       "4         Surprized they didn't stop and rape some women   not sexist   \n",
       "...                                                  ...          ...   \n",
       "13995  complexes like the 'nice chicks' that go after...       sexist   \n",
       "13996  \"GRAPHIC Germany - Muslim \"refugee\" stabbing h...   not sexist   \n",
       "13997  Lol I imagine there would be simps that are li...   not sexist   \n",
       "13998  It's not, the girls I go on dates with don't k...   not sexist   \n",
       "13999  How can he be an incel? He does have a girlfri...   not sexist   \n",
       "\n",
       "      label_category             label_vector  \n",
       "0               none                     none  \n",
       "1               none                     none  \n",
       "2               none                     none  \n",
       "3               none                     none  \n",
       "4               none                     none  \n",
       "...              ...                      ...  \n",
       "13995  2. derogation  2.1 descriptive attacks  \n",
       "13996           none                     none  \n",
       "13997           none                     none  \n",
       "13998           none                     none  \n",
       "13999           none                     none  \n",
       "\n",
       "[14000 rows x 5 columns]"
      ]
     },
     "execution_count": 2,
     "metadata": {},
     "output_type": "execute_result"
    }
   ],
   "source": [
    "df = pd.read_csv('Original Data.csv')\n",
    "df"
   ]
  },
  {
   "cell_type": "code",
   "execution_count": 3,
   "id": "31f520e6",
   "metadata": {},
   "outputs": [
    {
     "data": {
      "text/plain": [
       "rewire_id         0\n",
       "text              0\n",
       "label_sexist      0\n",
       "label_category    0\n",
       "label_vector      0\n",
       "dtype: int64"
      ]
     },
     "execution_count": 3,
     "metadata": {},
     "output_type": "execute_result"
    }
   ],
   "source": [
    "df.isnull().sum()"
   ]
  },
  {
   "cell_type": "code",
   "execution_count": 4,
   "id": "00ad7270",
   "metadata": {},
   "outputs": [
    {
     "data": {
      "text/plain": [
       "label_sexist\n",
       "not sexist    10602\n",
       "sexist         3398\n",
       "dtype: int64"
      ]
     },
     "execution_count": 4,
     "metadata": {},
     "output_type": "execute_result"
    }
   ],
   "source": [
    "df.groupby(by='label_sexist').size()"
   ]
  },
  {
   "cell_type": "markdown",
   "id": "079347d1",
   "metadata": {},
   "source": [
    ">75% data is of one class "
   ]
  },
  {
   "cell_type": "code",
   "execution_count": 5,
   "id": "f0b46e5e",
   "metadata": {},
   "outputs": [
    {
     "data": {
      "text/plain": [
       "label_category\n",
       "1. threats, plans to harm and incitement      310\n",
       "2. derogation                                1590\n",
       "3. animosity                                 1165\n",
       "4. prejudiced discussions                     333\n",
       "none                                        10602\n",
       "dtype: int64"
      ]
     },
     "execution_count": 5,
     "metadata": {},
     "output_type": "execute_result"
    }
   ],
   "source": [
    "df.groupby(by='label_category').size()"
   ]
  },
  {
   "cell_type": "code",
   "execution_count": 6,
   "id": "08d87f51",
   "metadata": {},
   "outputs": [
    {
     "data": {
      "text/plain": [
       "label_vector\n",
       "1.1 threats of harm                                                   56\n",
       "1.2 incitement and encouragement of harm                             254\n",
       "2.1 descriptive attacks                                              717\n",
       "2.2 aggressive and emotive attacks                                   673\n",
       "2.3 dehumanising attacks & overt sexual objectification              200\n",
       "3.1 casual use of gendered slurs, profanities, and insults           637\n",
       "3.2 immutable gender differences and gender stereotypes              417\n",
       "3.3 backhanded gendered compliments                                   64\n",
       "3.4 condescending explanations or unwelcome advice                    47\n",
       "4.1 supporting mistreatment of individual women                       75\n",
       "4.2 supporting systemic discrimination against women as a group      258\n",
       "none                                                               10602\n",
       "dtype: int64"
      ]
     },
     "execution_count": 6,
     "metadata": {},
     "output_type": "execute_result"
    }
   ],
   "source": [
    "df.groupby(by='label_vector').size()"
   ]
  },
  {
   "cell_type": "code",
   "execution_count": 7,
   "id": "ab18cd33",
   "metadata": {},
   "outputs": [
    {
     "data": {
      "text/plain": [
       "{'[DJT]', '[URL]', '[USER]'}"
      ]
     },
     "execution_count": 7,
     "metadata": {},
     "output_type": "execute_result"
    }
   ],
   "source": [
    "temp = list(df[\"text\"].str.findall('\\\\[[A-Z]*\\\\]'))\n",
    "\n",
    "myset = set()\n",
    "for row in temp:\n",
    "    for element in row:\n",
    "        myset.add(element)\n",
    "        \n",
    "myset"
   ]
  }
 ],
 "metadata": {
  "kernelspec": {
   "display_name": "Python 3 (ipykernel)",
   "language": "python",
   "name": "python3"
  },
  "language_info": {
   "codemirror_mode": {
    "name": "ipython",
    "version": 3
   },
   "file_extension": ".py",
   "mimetype": "text/x-python",
   "name": "python",
   "nbconvert_exporter": "python",
   "pygments_lexer": "ipython3",
   "version": "3.10.7"
  }
 },
 "nbformat": 4,
 "nbformat_minor": 5
}
